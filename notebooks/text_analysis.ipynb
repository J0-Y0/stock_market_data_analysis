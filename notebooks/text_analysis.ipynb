{
 "cells": [
  {
   "cell_type": "markdown",
   "metadata": {},
   "source": [
    "### Sentiment Analysis"
   ]
  },
  {
   "cell_type": "code",
   "execution_count": null,
   "metadata": {},
   "outputs": [],
   "source": [
    "import pandas as pd\n",
    "from nltk.sentiment.vader import SentimentIntensityAnalyzer\n",
    "from nltk import download\n",
    "import matplotlib.pyplot as plt\n",
    "\n",
    "df = pd.read_csv('FNSPID.csv')\n",
    "\n",
    "sia = SentimentIntensityAnalyzer()\n",
    "\n",
    "# Apply sentiment analysis\n",
    "df['Sentiment Scores'] = df['headline'].apply(sia.polarity_scores)\n",
    "df['Sentiment'] = df['Sentiment Scores'].apply(lambda score: 'positive' if score['compound'] > 0.05 \n",
    "                                             else ('negative' if score['compound'] < -0.05 \n",
    "                                             else 'neutral'))\n",
    "\n",
    "sentiment_distribution = df['Sentiment'].value_counts()\n",
    "print(\"Sentiment Distribution:\")\n",
    "print(sentiment_distribution)\n",
    "\n",
    "# Plot sentiment distribution\n",
    "sentiment_distribution.plot(kind='bar', title='Sentiment Distribution of Headlines')\n",
    "plt.xlabel('Sentiment')\n",
    "plt.ylabel('Number of Headlines')\n",
    "plt.show()"
   ]
  },
  {
   "cell_type": "markdown",
   "metadata": {},
   "source": [
    "### Topic Modeling Code:\n",
    "\n"
   ]
  },
  {
   "cell_type": "code",
   "execution_count": null,
   "metadata": {},
   "outputs": [],
   "source": [
    "import pandas as pd\n",
    "from sklearn.feature_extraction.text import CountVectorizer\n",
    "from sklearn.decomposition import LatentDirichletAllocation\n",
    "import spacy\n",
    "\n",
    "# Load dataset\n",
    "df = pd.read_csv(\"FNSPID.csv\")\n",
    "\n",
    "# Preprocess text: Tokenize and remove stopwords\n",
    "nlp = spacy.load(\"en_core_web_sm\")\n",
    "\n",
    "\n",
    "def preprocess_text(text):\n",
    "    doc = nlp(text)\n",
    "    tokens = [token.lemma_ for token in doc if not token.is_stop and not token.is_punct]\n",
    "    return \" \".join(tokens)\n",
    "\n",
    "\n",
    "df[\"clean_headline\"] = df[\"headline\"].apply(preprocess_text)\n",
    "\n",
    "# Vectorize the headlines\n",
    "vectorizer = CountVectorizer(max_df=0.95, min_df=2, stop_words=\"english\")\n",
    "X = vectorizer.fit_transform(df[\"clean_headline\"])\n",
    "\n",
    "# Perform LDA topic modeling\n",
    "lda = LatentDirichletAllocation(n_components=5, random_state=42)\n",
    "lda.fit(X)\n",
    "\n",
    "\n",
    "# Display the topics\n",
    "def display_topics(model, feature_names, no_top_words):\n",
    "    for topic_idx, topic in enumerate(model.components_):\n",
    "        print(f\"Topic #{topic_idx}:\")\n",
    "        print(\n",
    "            \" \".join(\n",
    "                [feature_names[i] for i in topic.argsort()[: -no_top_words - 1 : -1]]\n",
    "            )\n",
    "        )\n",
    "        print()\n",
    "\n",
    "\n",
    "no_top_words = 10\n",
    "display_topics(lda, vectorizer.get_feature_names_out(), no_top_words)"
   ]
  }
 ],
 "metadata": {
  "kernelspec": {
   "display_name": "venv",
   "language": "python",
   "name": "python3"
  },
  "language_info": {
   "name": "python",
   "version": "3.11.5"
  }
 },
 "nbformat": 4,
 "nbformat_minor": 2
}
