{
 "cells": [
  {
   "cell_type": "markdown",
   "metadata": {},
   "source": [
    "#### Exploratory Data Analysis (EDA) analysis\n",
    "\n",
    "#### Descriptive Statistics on Headline Length\n",
    "\n",
    "The length of each headline and then obtain descriptive statistics.\n"
   ]
  },
  {
   "cell_type": "code",
   "execution_count": 37,
   "metadata": {},
   "outputs": [
    {
     "name": "stdout",
     "output_type": "stream",
     "text": [
      "Descriptive Statistics for Headline Lengths:\n"
     ]
    },
    {
     "data": {
      "text/plain": [
       "count    1.407328e+06\n",
       "mean     7.312051e+01\n",
       "std      4.073531e+01\n",
       "min      3.000000e+00\n",
       "25%      4.700000e+01\n",
       "50%      6.400000e+01\n",
       "75%      8.700000e+01\n",
       "max      5.120000e+02\n",
       "Name: headline_length, dtype: float64"
      ]
     },
     "execution_count": 37,
     "metadata": {},
     "output_type": "execute_result"
    }
   ],
   "source": [
    "import pandas as pd\n",
    "\n",
    "df = pd.read_csv(\"../datasets/raw_analyst_ratings.csv\")\n",
    "# Calculate the length of each headline\n",
    "df[\"headline_length\"] = df[\"headline\"].apply(len)\n",
    "# Get descriptive statistics for headline lengths\n",
    "print(\"Descriptive Statistics for Headline Lengths:\")\n",
    "df[\"headline_length\"].describe()"
   ]
  },
  {
   "cell_type": "markdown",
   "metadata": {},
   "source": [
    "##### Number of Articles Per Publisher.\n",
    "\n",
    "can count the number of articles published by each publisher to identify the most active ones.\n"
   ]
  },
  {
   "cell_type": "code",
   "execution_count": 47,
   "metadata": {},
   "outputs": [
    {
     "name": "stdout",
     "output_type": "stream",
     "text": [
      "Number of Articles Per Publisher:\n",
      "publisher\n",
      "Paul Quintaro                      228373\n",
      "Lisa Levin                         186979\n",
      "Benzinga Newsdesk                  150484\n",
      "Charles Gross                       96732\n",
      "Monica Gerson                       82380\n",
      "                                    ...  \n",
      "Shazir Mucklai - Imperium Group         1\n",
      "Laura Jennings                          1\n",
      "Eric Martin                             1\n",
      "Jose Rodrigo                            1\n",
      "Jeremie Capron                          1\n",
      "Name: count, Length: 1034, dtype: int64\n"
     ]
    }
   ],
   "source": [
    "# Count the number of articles per publisher\n",
    "articles_per_publisher = df[\"publisher\"].value_counts()\n",
    "print(\"Number of Articles Per Publisher:\")\n",
    "print(articles_per_publisher)"
   ]
  },
  {
   "cell_type": "markdown",
   "metadata": {},
   "source": [
    "#### Analyze Publication Date Trends]\n",
    "\n",
    "Now analyze the publication dates to see if there are any trends, such as increased news frequency on specific days or during particular events.\n"
   ]
  },
  {
   "cell_type": "code",
   "execution_count": 58,
   "metadata": {},
   "outputs": [
    {
     "name": "stdout",
     "output_type": "stream",
     "text": [
      "\n",
      "Number of Articles Published Per Day:\n",
      "day\n",
      "2009-02-14      1\n",
      "2009-04-27      2\n",
      "2009-04-29      1\n",
      "2009-05-22      1\n",
      "2009-05-27      6\n",
      "             ... \n",
      "2020-06-07     25\n",
      "2020-06-08    765\n",
      "2020-06-09    803\n",
      "2020-06-10    807\n",
      "2020-06-11    544\n",
      "Name: count, Length: 3955, dtype: int64\n",
      "\n",
      "Number of Articles Published By Weekday:\n",
      "weekday\n",
      "Thursday     302619\n",
      "Wednesday    300922\n",
      "Tuesday      296505\n",
      "Monday       265139\n",
      "Friday       217918\n",
      "Sunday        16466\n",
      "Saturday       7759\n",
      "Name: count, dtype: int64\n"
     ]
    }
   ],
   "source": [
    "# Convert the 'date' column to datetime\n",
    "df[\"date\"] = df[\"date\"].dt.tz_localize(None)\n",
    "\n",
    "# Analyze publication dates\n",
    "# Extracting date-related information\n",
    "df[\"day\"] = df[\"date\"].dt.date\n",
    "df[\"month\"] = df[\"date\"].dt.to_period(\"M\")\n",
    "df[\"weekday\"] = df[\"date\"].dt.day_name()\n",
    "\n",
    "# Count the number of articles per day\n",
    "daily_counts = df[\"day\"].value_counts().sort_index()\n",
    "\n",
    "print(\"\\nNumber of Articles Published Per Day:\")\n",
    "print(daily_counts)\n",
    "\n",
    "# Count the number of articles by weekday\n",
    "weekday_counts = df[\"weekday\"].value_counts()\n",
    "\n",
    "print(\"\\nNumber of Articles Published By Weekday:\")\n",
    "print(weekday_counts)"
   ]
  },
  {
   "cell_type": "code",
   "execution_count": null,
   "metadata": {},
   "outputs": [],
   "source": []
  }
 ],
 "metadata": {
  "kernelspec": {
   "display_name": "Python 3 (ipykernel)",
   "language": "python",
   "name": "python3"
  },
  "language_info": {
   "codemirror_mode": {
    "name": "ipython",
    "version": 3
   },
   "file_extension": ".py",
   "mimetype": "text/x-python",
   "name": "python",
   "nbconvert_exporter": "python",
   "pygments_lexer": "ipython3",
   "version": "3.12.4"
  }
 },
 "nbformat": 4,
 "nbformat_minor": 4
}
