{
 "cells": [
  {
   "cell_type": "markdown",
   "metadata": {},
   "source": [
    "## Exploratory Data Analysis (EDA) analysis\n",
    "### A. Descriptive Statistics on Headline Length\n",
    "The length of each headline and then obtain descriptive statistics."
   ]
  },
  {
   "cell_type": "code",
   "execution_count": null,
   "metadata": {},
   "outputs": [],
   "source": [
    "import pandas as pd\n",
    "df = pd.read_csv(\"../dataset/FNSPID.csv\")\n",
    "\n",
    "# Calculate the length of each headline\n",
    "df['headline_length'] = df['headline'].apply(len)\n",
    "\n",
    "# Get descriptive statistics for headline lengths\n",
    "headline_stats = df['headline_length'].describe()\n",
    "\n",
    "print(\"Descriptive Statistics for Headline Lengths:\")\n",
    "print(headline_stats)"
   ]
  },
  {
   "cell_type": "markdown",
   "metadata": {},
   "source": [
    "##### Number of Articles Per Publisher. \n",
    "we can count the number of articles published by each publisher to identify the most active ones."
   ]
  },
  {
   "cell_type": "code",
   "execution_count": null,
   "metadata": {},
   "outputs": [],
   "source": [
    "# Count the number of articles per publisher\n",
    "articles_per_publisher = df[\"publisher\"].value_counts()\n",
    "\n",
    "print(\"Number of Articles Per Publisher:\")\n",
    "print(articles_per_publisher)"
   ]
  },
  {
   "cell_type": "markdown",
   "metadata": {},
   "source": [
    "#### Analyze Publication Date Trends\n",
    "Finally, we’ll analyze the publication dates to see if there are any trends, such as increased news frequency on specific days or during particular events."
   ]
  },
  {
   "cell_type": "code",
   "execution_count": null,
   "metadata": {},
   "outputs": [],
   "source": [
    "# Convert the 'date' column to datetime format\n",
    "df[\"date\"] = pd.to_datetime(df[\"date\"])\n",
    "\n",
    "# Extract the date, month, year, and day of the week\n",
    "df[\"day_of_week\"] = df[\"date\"].dt.day_name()\n",
    "df[\"day\"] = df[\"date\"].dt.day\n",
    "df[\"month\"] = df[\"date\"].dt.month_name()\n",
    "df[\"year\"] = df[\"date\"].dt.year\n",
    "\n",
    "# Count the number of articles published each day\n",
    "articles_per_day = df[\"day_of_week\"].value_counts()\n",
    "\n",
    "# Plot trends over time (e.g., number of articles per month)\n",
    "import matplotlib.pyplot as plt\n",
    "\n",
    "# Articles per month\n",
    "articles_per_month = df[\"month\"].value_counts().sort_index()\n",
    "articles_per_month.plot(kind=\"bar\", title=\"Number of Articles Per Month\")\n",
    "plt.xlabel(\"Month\")\n",
    "plt.ylabel(\"Number of Articles\")\n",
    "plt.show()\n",
    "\n",
    "# Articles per day of the week\n",
    "articles_per_day.plot(kind=\"bar\", title=\"Number of Articles Per Day of the Week\")\n",
    "plt.xlabel(\"Day of the Week\")\n",
    "plt.ylabel(\"Number of Articles\")\n",
    "plt.show()"
   ]
  }
 ],
 "metadata": {
  "kernelspec": {
   "display_name": "Python 3 (ipykernel)",
   "language": "python",
   "name": "python3"
  },
  "language_info": {
   "codemirror_mode": {
    "name": "ipython",
    "version": 3
   },
   "file_extension": ".py",
   "mimetype": "text/x-python",
   "name": "python",
   "nbconvert_exporter": "python",
   "pygments_lexer": "ipython3",
   "version": "3.11.5"
  }
 },
 "nbformat": 4,
 "nbformat_minor": 4
}
