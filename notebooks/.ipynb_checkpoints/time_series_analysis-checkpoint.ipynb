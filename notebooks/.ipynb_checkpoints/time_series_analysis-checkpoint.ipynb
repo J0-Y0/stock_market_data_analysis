{
 "cells": [
  {
   "cell_type": "markdown",
   "metadata": {},
   "source": [
    "### Prepare the Data\n"
   ]
  },
  {
   "cell_type": "code",
   "execution_count": null,
   "metadata": {},
   "outputs": [],
   "source": [
    "import pandas as pd\n",
    "\n",
    "# Load dataset\n",
    "df = pd.read_csv(\"FNSPID.csv\")\n",
    "\n",
    "# Convert 'date' column to datetime format\n",
    "df[\"date\"] = pd.to_datetime(df[\"date\"])\n",
    "\n",
    "# Extract date components\n",
    "df[\"day\"] = df[\"date\"].dt.date\n",
    "df[\"hour\"] = df[\"date\"].dt.hour\n",
    "df[\"month\"] = df[\"date\"].dt.to_period(\"M\")\n",
    "df[\"year\"] = df[\"date\"].dt.year\n",
    "df[\"weekday\"] = df[\"date\"].dt.day_name()"
   ]
  },
  {
   "cell_type": "markdown",
   "metadata": {},
   "source": [
    "### Analyze Publication Frequency Over Time\n"
   ]
  }
 ],
 "metadata": {
  "kernelspec": {
   "display_name": "venv",
   "language": "python",
   "name": "python3"
  },
  "language_info": {
   "name": "python",
   "version": "3.11.5"
  }
 },
 "nbformat": 4,
 "nbformat_minor": 2
}
