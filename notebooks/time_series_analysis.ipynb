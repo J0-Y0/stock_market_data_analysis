{
 "cells": [
  {
   "cell_type": "markdown",
   "metadata": {},
   "source": [
    "### Prepare the Data\n"
   ]
  },
  {
   "cell_type": "code",
   "execution_count": null,
   "metadata": {},
   "outputs": [],
   "source": [
    "import pandas as pd\n",
    "\n",
    "# Load dataset\n",
    "df = pd.read_csv(\"../datasets/raw_analyst_ratings.csv\")\n",
    "\n",
    "# Convert 'date' column to datetime format\n",
    "df[\"date\"] = pd.to_datetime(df[\"date\"])\n",
    "\n",
    "# Extract relevant time features\n",
    "df[\"year\"] = df[\"date\"].dt.year\n",
    "df[\"month\"] = df[\"date\"].dt.month\n",
    "df[\"day\"] = df[\"date\"].dt.day\n",
    "df[\"hour\"] = df[\"date\"].dt.hour\n",
    "df[\"day_of_week\"] = df[\"date\"].dt.day_name()"
   ]
  },
  {
   "cell_type": "markdown",
   "metadata": {},
   "source": [
    "### Analyze Publication Frequency Over Time\n"
   ]
  },
  {
   "cell_type": "markdown",
   "metadata": {},
   "source": [
    "Monthly Frequency\n"
   ]
  },
  {
   "cell_type": "code",
   "execution_count": null,
   "metadata": {},
   "outputs": [],
   "source": [
    "# Group by year and month, then count articles\n",
    "monthly_counts = df.groupby([\"year\", \"month\"]).size().reset_index(name=\"count\")\n",
    "\n",
    "# Plot monthly publication frequency\n",
    "import matplotlib.pyplot as plt\n",
    "\n",
    "plt.figure(figsize=(12, 6))\n",
    "plt.plot(monthly_counts.index, monthly_counts[\"count\"], marker=\"o\")\n",
    "plt.title(\"Monthly Publication Frequency\")\n",
    "plt.xlabel(\"Month\")\n",
    "plt.ylabel(\"Number of Articles\")\n",
    "plt.grid(True)\n",
    "plt.show()"
   ]
  },
  {
   "cell_type": "markdown",
   "metadata": {},
   "source": [
    "Daily Frequency\n"
   ]
  },
  {
   "cell_type": "code",
   "execution_count": null,
   "metadata": {},
   "outputs": [],
   "source": [
    "# Group by year, month, and day, then count articles\n",
    "daily_counts = df.groupby([\"year\", \"month\", \"day\"]).size().reset_index(name=\"count\")\n",
    "\n",
    "# Plot daily publication frequency\n",
    "plt.figure(figsize=(12, 6))\n",
    "plt.plot(daily_counts.index, daily_counts[\"count\"], marker=\"o\", color=\"orange\")\n",
    "plt.title(\"Daily Publication Frequency\")\n",
    "plt.xlabel(\"Day\")\n",
    "plt.ylabel(\"Number of Articles\")\n",
    "plt.grid(True)\n",
    "plt.show()"
   ]
  },
  {
   "cell_type": "markdown",
   "metadata": {},
   "source": [
    "Hourly Frequency\n"
   ]
  },
  {
   "cell_type": "code",
   "execution_count": null,
   "metadata": {},
   "outputs": [],
   "source": [
    "# Group by hour of the day, then count articles\n",
    "hourly_counts = df.groupby(\"hour\").size().reset_index(name=\"count\")\n",
    "\n",
    "# Plot hourly publication frequency\n",
    "plt.figure(figsize=(12, 6))\n",
    "plt.bar(hourly_counts[\"hour\"], hourly_counts[\"count\"], color=\"green\")\n",
    "plt.title(\"Hourly Publication Frequency\")\n",
    "plt.xlabel(\"Hour of Day\")\n",
    "plt.ylabel(\"Number of Articles\")\n",
    "plt.xticks(range(24))\n",
    "plt.grid(True)\n",
    "plt.show()"
   ]
  },
  {
   "cell_type": "markdown",
   "metadata": {},
   "source": [
    "Market Events\n"
   ]
  },
  {
   "cell_type": "markdown",
   "metadata": {},
   "source": [
    "# Example of adding event annotations to the monthly frequency plot\n",
    "\n",
    "events = {\n",
    "'2020-03-01': 'Market Crash',\n",
    "'2020-06-01': 'Economic Stimulus'\n",
    "}\n",
    "\n",
    "plt.figure(figsize=(12, 6))\n",
    "plt.plot(monthly_counts.index, monthly_counts['count'], marker='o')\n",
    "for date, event in events.items():\n",
    "plt.axvline(x=pd.to_datetime(date).month, color='red', linestyle='--')\n",
    "plt.text(pd.to_datetime(date).month, max(monthly_counts['count']), event, rotation=90, color='red')\n",
    "plt.title('Monthly Publication Frequency with Market Events')\n",
    "plt.xlabel('Month')\n",
    "plt.ylabel('Number of Articles')\n",
    "plt.grid(True)\n",
    "plt.show()\n"
   ]
  }
 ],
 "metadata": {
  "kernelspec": {
   "display_name": "venv",
   "language": "python",
   "name": "python3"
  },
  "language_info": {
   "name": "python",
   "version": "3.11.5"
  }
 },
 "nbformat": 4,
 "nbformat_minor": 2
}
