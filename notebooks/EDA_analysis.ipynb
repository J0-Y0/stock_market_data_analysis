{
 "cells": [
  {
   "cell_type": "markdown",
   "metadata": {},
   "source": [
    "## Exploratory Data Analysis (EDA) analysis\n",
    "### 1. Descriptive Statistics on Headline Length\n",
    "#### 1.1 First, let's calculate the length of each headline and then obtain descriptive statistics."
   ]
  },
  {
   "cell_type": "code",
   "execution_count": null,
   "metadata": {},
   "outputs": [],
   "source": [
    "import pandas as pd\n",
    "\n",
    "# Load the dataset\n",
    "df = pd.read_csv(\"../dataset/FNSPID.csv\")\n",
    "\n",
    "# Calculate the length of each headline\n",
    "df['headline_length'] = df['headline'].apply(len)\n",
    "\n",
    "# Get descriptive statistics for headline lengths\n",
    "headline_stats = df['headline_length'].describe()\n",
    "\n",
    "print(\"Descriptive Statistics for Headline Lengths:\")\n",
    "print(headline_stats)"
   ]
  }
 ],
 "metadata": {
  "kernelspec": {
   "display_name": "Python 3 (ipykernel)",
   "language": "python",
   "name": "python3"
  },
  "language_info": {
   "codemirror_mode": {
    "name": "ipython",
    "version": 3
   },
   "file_extension": ".py",
   "mimetype": "text/x-python",
   "name": "python",
   "nbconvert_exporter": "python",
   "pygments_lexer": "ipython3",
   "version": "3.11.5"
  }
 },
 "nbformat": 4,
 "nbformat_minor": 4
}
